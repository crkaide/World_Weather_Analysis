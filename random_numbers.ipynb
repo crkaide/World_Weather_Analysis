{
 "cells": [
  {
   "cell_type": "code",
   "execution_count": 1,
   "metadata": {},
   "outputs": [],
   "source": [
    "# Import the random module.\n",
    "import random"
   ]
  },
  {
   "cell_type": "code",
   "execution_count": 2,
   "metadata": {},
   "outputs": [],
   "source": [
    "# In the next cell, type random., and after the period, press the \n",
    "# Tab key for a list of available random module functions."
   ]
  },
  {
   "cell_type": "code",
   "execution_count": 3,
   "metadata": {},
   "outputs": [
    {
     "data": {
      "text/plain": [
       "82"
      ]
     },
     "execution_count": 3,
     "metadata": {},
     "output_type": "execute_result"
    }
   ],
   "source": [
    "# The randint() Function\n",
    "\n",
    "random.randint(-90, 90)"
   ]
  },
  {
   "cell_type": "code",
   "execution_count": 4,
   "metadata": {},
   "outputs": [
    {
     "data": {
      "text/plain": [
       "0.3769146503570273"
      ]
     },
     "execution_count": 4,
     "metadata": {},
     "output_type": "execute_result"
    }
   ],
   "source": [
    "# The random() Function\n",
    "\n",
    "random.random()"
   ]
  },
  {
   "cell_type": "code",
   "execution_count": 5,
   "metadata": {},
   "outputs": [],
   "source": [
    "# Generate ten random floating-point decimal latitudes between –90 and 89\n",
    "\n",
    "x = 1\n",
    "latitudes = []\n",
    "while x < 11:\n",
    "    random_lat = random.randint(-90, 89) + random.random()\n",
    "    latitudes.append(random_lat)\n",
    "    x += 1"
   ]
  },
  {
   "cell_type": "code",
   "execution_count": 6,
   "metadata": {},
   "outputs": [
    {
     "data": {
      "text/plain": [
       "[-58.836043525586746,\n",
       " -73.54229179568502,\n",
       " -40.9364476714655,\n",
       " 89.60981502273435,\n",
       " 51.93467251970944,\n",
       " 22.59452793378887,\n",
       " -31.579182599257894,\n",
       " 81.729697337477,\n",
       " 24.132880715673476,\n",
       " -63.23604570276612]"
      ]
     },
     "execution_count": 6,
     "metadata": {},
     "output_type": "execute_result"
    }
   ],
   "source": [
    "latitudes"
   ]
  },
  {
   "cell_type": "code",
   "execution_count": 7,
   "metadata": {},
   "outputs": [
    {
     "data": {
      "text/plain": [
       "-66"
      ]
     },
     "execution_count": 7,
     "metadata": {},
     "output_type": "execute_result"
    }
   ],
   "source": [
    "# The randrange() Function\n",
    "\n",
    "# For the randrange() function, there is an option to add a \n",
    "# step parameter and set it equal to an integer, which will \n",
    "# generate increments of a given integer value, from the \n",
    "# lower to the upper limit.\n",
    "\n",
    "random.randrange(-90, 90, step=3)"
   ]
  },
  {
   "cell_type": "code",
   "execution_count": 8,
   "metadata": {},
   "outputs": [
    {
     "data": {
      "text/plain": [
       "-13.65724188602907"
      ]
     },
     "execution_count": 8,
     "metadata": {},
     "output_type": "execute_result"
    }
   ],
   "source": [
    "# The uniform() Function\n",
    "\n",
    "random.uniform(-90, 90)"
   ]
  },
  {
   "cell_type": "code",
   "execution_count": 9,
   "metadata": {},
   "outputs": [],
   "source": [
    "# Recall that the NumPy module is a numerical mathematics library \n",
    "# that can be used to make arrays or matrices of numbers."
   ]
  },
  {
   "cell_type": "code",
   "execution_count": 10,
   "metadata": {},
   "outputs": [],
   "source": [
    "# Import the NumPy module.\n",
    "import numpy as np"
   ]
  },
  {
   "cell_type": "code",
   "execution_count": 11,
   "metadata": {},
   "outputs": [
    {
     "data": {
      "text/plain": [
       "-62.356541680777944"
      ]
     },
     "execution_count": 11,
     "metadata": {},
     "output_type": "execute_result"
    }
   ],
   "source": [
    "# In the next cell add np.random.uniform(-90.000, 90.000) \n",
    "# to generate a floating-point decimal number between –90.000 \n",
    "# and 90.000. Adding the zeros past the decimal places is optional.\n",
    "\n",
    "# Floating point decimal:\n",
    "\n",
    "np.random.uniform(-90.000, 90.000)\n",
    "\n",
    "# Another option is to write the parameters as \n",
    "# np.random.uniform(low=-90, high=90)"
   ]
  },
  {
   "cell_type": "code",
   "execution_count": 12,
   "metadata": {},
   "outputs": [
    {
     "data": {
      "text/plain": [
       "array([-33.65333359, -67.26869573,  11.16121614, -81.69083591,\n",
       "       -22.31611893,  31.45666236, -59.24673743,  67.42983191,\n",
       "       -75.50310416,  62.75524743,  39.14257623,   5.62540513,\n",
       "        62.5129587 ,  43.01978593, -89.89818511,  19.95901892,\n",
       "        -5.77340162, -68.09276893, -22.20001217,  84.22899201,\n",
       "       -33.07057483,  43.17929996, -24.68753346,  24.73763776,\n",
       "       -79.5415479 , -89.9113238 , -55.5555153 , -22.1578761 ,\n",
       "        20.27096573, -78.10984568,  -7.29200291, -23.3679685 ,\n",
       "        26.07719629, -73.78813802,  22.60838584,   4.03884305,\n",
       "        12.20110999,   6.82573275,  31.96099604, -14.6138331 ,\n",
       "       -43.2853182 , -40.54223361, -32.31353762, -89.65187271,\n",
       "       -76.45317789, -23.97133585,  71.10093257,  85.88884074,\n",
       "        63.75823014,  75.56231373])"
      ]
     },
     "execution_count": 12,
     "metadata": {},
     "output_type": "execute_result"
    }
   ],
   "source": [
    "# To generate more than one floating-point decimal number \n",
    "# between –90 and 90, we can add the size parameter when \n",
    "# we use the NumPy module and set that equal to any whole \n",
    "# number.\n",
    "\n",
    "np.random.uniform(-90.000, 90.000, size=50)"
   ]
  },
  {
   "cell_type": "code",
   "execution_count": 13,
   "metadata": {},
   "outputs": [],
   "source": [
    "# To test how long a piece of code or function takes to \n",
    "# run, we can import the \"timeit\" module and use the \n",
    "# %timeit magic command when we run our code or call the \n",
    "# function."
   ]
  },
  {
   "cell_type": "code",
   "execution_count": 14,
   "metadata": {},
   "outputs": [],
   "source": [
    "# Import timeit.\n",
    "import timeit"
   ]
  },
  {
   "cell_type": "code",
   "execution_count": 15,
   "metadata": {},
   "outputs": [],
   "source": [
    "# Next, add the %timeit magic command before the \n",
    "# np.random.uniform(-90.000, 90.000, size=1500) \n",
    "# in a new cell. The cell should look like this:"
   ]
  },
  {
   "cell_type": "code",
   "execution_count": null,
   "metadata": {},
   "outputs": [],
   "source": [
    "%timeit np.random.uniform(-90.000, 90.000, size=1500)"
   ]
  },
  {
   "cell_type": "code",
   "execution_count": null,
   "metadata": {},
   "outputs": [],
   "source": [
    "# Now, let's run the while loop as a function.\n",
    "\n",
    "def latitudes(size):\n",
    "    latitudes = []\n",
    "    x = 0\n",
    "    while x < (size):\n",
    "        random_lat = random.randint(-90, 90) + random.random()\n",
    "        latitudes.append(random_lat)\n",
    "        x += 1\n",
    "    return latitudes\n",
    "# Call the function with 1500.\n",
    "%timeit latitudes(1500)"
   ]
  },
  {
   "cell_type": "code",
   "execution_count": null,
   "metadata": {},
   "outputs": [],
   "source": [
    "# Using the np.random.uniform(-90.000, 90.000, size=1500) is \n",
    "# 100 times faster than using the function, and our code is one \n",
    "# line, whereas the function uses eight lines!"
   ]
  },
  {
   "cell_type": "code",
   "execution_count": null,
   "metadata": {},
   "outputs": [],
   "source": [
    "print(\"Hello\")"
   ]
  }
 ],
 "metadata": {
  "kernelspec": {
   "display_name": "PythonData",
   "language": "python",
   "name": "pythondata"
  },
  "language_info": {
   "codemirror_mode": {
    "name": "ipython",
    "version": 3
   },
   "file_extension": ".py",
   "mimetype": "text/x-python",
   "name": "python",
   "nbconvert_exporter": "python",
   "pygments_lexer": "ipython3",
   "version": "3.8.5"
  }
 },
 "nbformat": 4,
 "nbformat_minor": 5
}
