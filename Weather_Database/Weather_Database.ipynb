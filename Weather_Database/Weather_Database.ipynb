{
 "cells": [
  {
   "cell_type": "code",
   "execution_count": 1,
   "metadata": {},
   "outputs": [],
   "source": [
    "# Import the dependencies.\n",
    "\n",
    "import pandas as pd\n",
    "import matplotlib.pyplot as plt\n",
    "import numpy as np\n",
    "import json\n",
    "\n",
    "# Import the requests library.\n",
    "import requests\n",
    "\n",
    "# Import the API key.\n",
    "from config import weather_api_key\n",
    "\n",
    "# Import the datetime module from the datetime library.\n",
    "from datetime import datetime"
   ]
  },
  {
   "cell_type": "code",
   "execution_count": 2,
   "metadata": {},
   "outputs": [
    {
     "data": {
      "text/plain": [
       "<zip at 0x7fe40ddc01c0>"
      ]
     },
     "execution_count": 2,
     "metadata": {},
     "output_type": "execute_result"
    }
   ],
   "source": [
    "# Create a set of random latitude and longitude combinations.\n",
    "\n",
    "lats = np.random.uniform(low=-90.000, high=90.000, size=5)\n",
    "lngs = np.random.uniform(low=-180.000, high=180.000, size=5)\n",
    "lat_lngs = zip(lats, lngs)\n",
    "lat_lngs"
   ]
  },
  {
   "cell_type": "code",
   "execution_count": 3,
   "metadata": {},
   "outputs": [],
   "source": [
    "# Add the latitudes and longitudes to a list.\n",
    "\n",
    "coordinates = list(lat_lngs)"
   ]
  },
  {
   "cell_type": "code",
   "execution_count": 4,
   "metadata": {},
   "outputs": [],
   "source": [
    "from citipy import citipy"
   ]
  },
  {
   "cell_type": "code",
   "execution_count": 5,
   "metadata": {},
   "outputs": [
    {
     "data": {
      "text/plain": [
       "5"
      ]
     },
     "execution_count": 5,
     "metadata": {},
     "output_type": "execute_result"
    }
   ],
   "source": [
    "# Create a list for holding the cities.\n",
    "cities = []\n",
    "\n",
    "# Identify the nearest city for each latitude and longitude combination.\n",
    "for coordinate in coordinates:\n",
    "    city = citipy.nearest_city(coordinate[0], coordinate[1]).city_name\n",
    "\n",
    "    # If the city is unique, then we will add it to the cities list.\n",
    "    if city not in cities:\n",
    "        cities.append(city)\n",
    "\n",
    "# Print the city count to confirm sufficient count.\n",
    "len(cities)"
   ]
  },
  {
   "cell_type": "code",
   "execution_count": 6,
   "metadata": {},
   "outputs": [],
   "source": [
    "# Starting URL for Weather Map API Call.\n",
    "\n",
    "url = \"http://api.openweathermap.org/data/2.5/weather?units=Imperial&APPID=\" + weather_api_key"
   ]
  },
  {
   "cell_type": "code",
   "execution_count": 7,
   "metadata": {},
   "outputs": [
    {
     "name": "stdout",
     "output_type": "stream",
     "text": [
      "Beginning Data Retrieval     \n",
      "-----------------------------\n",
      "Processing Record 1 of Set 1 | jalu\n",
      "Processing Record 2 of Set 1 | sturgeon bay\n",
      "Processing Record 3 of Set 1 | brae\n",
      "Processing Record 4 of Set 1 | ossora\n",
      "Processing Record 5 of Set 1 | maceio\n",
      "-----------------------------\n",
      "Data Retrieval Complete      \n",
      "-----------------------------\n"
     ]
    }
   ],
   "source": [
    "# Create an empty list to hold the weather data.\n",
    "city_data = []\n",
    "\n",
    "# Print the beginning of the logging.\n",
    "print(\"Beginning Data Retrieval     \")\n",
    "print(\"-----------------------------\")\n",
    "\n",
    "# Create counters.\n",
    "record_count = 1\n",
    "set_count = 1\n",
    "\n",
    "# Loop through all the cities in the list.\n",
    "for i, city in enumerate(cities):\n",
    "\n",
    "    # Group cities in sets of 50 for logging purposes.\n",
    "    if (i % 50 == 0 and i >= 50):\n",
    "        set_count += 1\n",
    "        record_count = 1\n",
    "    # Create endpoint URL with each city.\n",
    "    city_url = url + \"&q=\" + city.replace(\" \",\"+\")\n",
    "\n",
    "    # Log the URL, record, and set numbers and the city.\n",
    "    print(f\"Processing Record {record_count} of Set {set_count} | {city}\")\n",
    "    # Add 1 to the record count.\n",
    "    record_count += 1\n",
    "    \n",
    "# Run an API request for each of the cities.\n",
    "    try:\n",
    "\n",
    "        # Parse the JSON and retrieve data.\n",
    "        city_weather = requests.get(city_url).json()\n",
    "\n",
    "        # Parse out the needed data.\n",
    "        city_lat = city_weather[\"coord\"][\"lat\"]\n",
    "        city_lng = city_weather[\"coord\"][\"lon\"]\n",
    "        city_max_temp = city_weather[\"main\"][\"temp_max\"]\n",
    "        city_humidity = city_weather[\"main\"][\"humidity\"]\n",
    "        city_clouds = city_weather[\"clouds\"][\"all\"]\n",
    "        city_wind = city_weather[\"wind\"][\"speed\"]\n",
    "        city_country = city_weather[\"sys\"][\"country\"]\n",
    "        main_temp = city_weather[\"main\"][\"temp\"]\n",
    "        current_desc = city_weather[\"weather\"]\n",
    "\n",
    "        # Convert the date to ISO standard.\n",
    "        city_date = datetime.utcfromtimestamp(city_weather[\"dt\"]).strftime('%Y-%m-%d %H:%M:%S')\n",
    "\n",
    "        # Append the city information into city_data list.\n",
    "        city_data.append({\"City\": city.title(),\n",
    "                          \"Lat\": city_lat,\n",
    "                          \"Lng\": city_lng,\n",
    "                          \"Max Temp\": city_max_temp,\n",
    "                          \"Humidity\": city_humidity,\n",
    "                          \"Cloudiness\": city_clouds,\n",
    "                          \"Wind Speed\": city_wind,\n",
    "                          \"Country\": city_country,\n",
    "                          \"Date\": city_date,\n",
    "                          \"Main Temp\": main_temp,\n",
    "                          \"Current Description\": current_desc})\n",
    "\n",
    "# If an error is experienced, skip the city.\n",
    "    except:\n",
    "        print(\"City not found. Skipping...\")\n",
    "        pass\n",
    "\n",
    "# Indicate that Data Loading is complete.\n",
    "print(\"-----------------------------\")\n",
    "print(\"Data Retrieval Complete      \")\n",
    "print(\"-----------------------------\")"
   ]
  },
  {
   "cell_type": "code",
   "execution_count": 8,
   "metadata": {},
   "outputs": [
    {
     "data": {
      "text/plain": [
       "[{'City': 'Jalu',\n",
       "  'Lat': 29.0331,\n",
       "  'Lng': 21.5482,\n",
       "  'Max Temp': 99.14,\n",
       "  'Humidity': 8,\n",
       "  'Cloudiness': 100,\n",
       "  'Wind Speed': 4.52,\n",
       "  'Country': 'LY',\n",
       "  'Date': '2021-04-18 15:59:16',\n",
       "  'Main Temp': 99.14,\n",
       "  'Current Description': [{'id': 804,\n",
       "    'main': 'Clouds',\n",
       "    'description': 'overcast clouds',\n",
       "    'icon': '04d'}]},\n",
       " {'City': 'Sturgeon Bay',\n",
       "  'Lat': 44.8342,\n",
       "  'Lng': -87.377,\n",
       "  'Max Temp': 50,\n",
       "  'Humidity': 43,\n",
       "  'Cloudiness': 1,\n",
       "  'Wind Speed': 5.75,\n",
       "  'Country': 'US',\n",
       "  'Date': '2021-04-18 15:56:30',\n",
       "  'Main Temp': 48.7,\n",
       "  'Current Description': [{'id': 800,\n",
       "    'main': 'Clear',\n",
       "    'description': 'clear sky',\n",
       "    'icon': '01d'}]},\n",
       " {'City': 'Brae',\n",
       "  'Lat': 60.3964,\n",
       "  'Lng': -1.353,\n",
       "  'Max Temp': 48.2,\n",
       "  'Humidity': 76,\n",
       "  'Cloudiness': 0,\n",
       "  'Wind Speed': 14.97,\n",
       "  'Country': 'GB',\n",
       "  'Date': '2021-04-18 15:59:17',\n",
       "  'Main Temp': 48.2,\n",
       "  'Current Description': [{'id': 800,\n",
       "    'main': 'Clear',\n",
       "    'description': 'clear sky',\n",
       "    'icon': '01d'}]},\n",
       " {'City': 'Ossora',\n",
       "  'Lat': 59.2353,\n",
       "  'Lng': 163.0719,\n",
       "  'Max Temp': 26.82,\n",
       "  'Humidity': 92,\n",
       "  'Cloudiness': 100,\n",
       "  'Wind Speed': 3.42,\n",
       "  'Country': 'RU',\n",
       "  'Date': '2021-04-18 15:59:17',\n",
       "  'Main Temp': 26.82,\n",
       "  'Current Description': [{'id': 804,\n",
       "    'main': 'Clouds',\n",
       "    'description': 'overcast clouds',\n",
       "    'icon': '04n'}]},\n",
       " {'City': 'Maceio',\n",
       "  'Lat': -9.6658,\n",
       "  'Lng': -35.7353,\n",
       "  'Max Temp': 80.6,\n",
       "  'Humidity': 78,\n",
       "  'Cloudiness': 75,\n",
       "  'Wind Speed': 12.66,\n",
       "  'Country': 'BR',\n",
       "  'Date': '2021-04-18 15:55:56',\n",
       "  'Main Temp': 80.6,\n",
       "  'Current Description': [{'id': 803,\n",
       "    'main': 'Clouds',\n",
       "    'description': 'broken clouds',\n",
       "    'icon': '04d'}]}]"
      ]
     },
     "execution_count": 8,
     "metadata": {},
     "output_type": "execute_result"
    }
   ],
   "source": [
    "city_data"
   ]
  },
  {
   "cell_type": "code",
   "execution_count": 9,
   "metadata": {},
   "outputs": [
    {
     "data": {
      "text/plain": [
       "'[{\"City\": \"Jalu\", \"Lat\": 29.0331, \"Lng\": 21.5482, \"Max Temp\": 99.14, \"Humidity\": 8, \"Cloudiness\": 100, \"Wind Speed\": 4.52, \"Country\": \"LY\", \"Date\": \"2021-04-18 15:59:16\", \"Main Temp\": 99.14, \"Current Description\": [{\"id\": 804, \"main\": \"Clouds\", \"description\": \"overcast clouds\", \"icon\": \"04d\"}]}, {\"City\": \"Sturgeon Bay\", \"Lat\": 44.8342, \"Lng\": -87.377, \"Max Temp\": 50, \"Humidity\": 43, \"Cloudiness\": 1, \"Wind Speed\": 5.75, \"Country\": \"US\", \"Date\": \"2021-04-18 15:56:30\", \"Main Temp\": 48.7, \"Current Description\": [{\"id\": 800, \"main\": \"Clear\", \"description\": \"clear sky\", \"icon\": \"01d\"}]}, {\"City\": \"Brae\", \"Lat\": 60.3964, \"Lng\": -1.353, \"Max Temp\": 48.2, \"Humidity\": 76, \"Cloudiness\": 0, \"Wind Speed\": 14.97, \"Country\": \"GB\", \"Date\": \"2021-04-18 15:59:17\", \"Main Temp\": 48.2, \"Current Description\": [{\"id\": 800, \"main\": \"Clear\", \"description\": \"clear sky\", \"icon\": \"01d\"}]}, {\"City\": \"Ossora\", \"Lat\": 59.2353, \"Lng\": 163.0719, \"Max Temp\": 26.82, \"Humidity\": 92, \"Cloudiness\": 100, \"Wind Speed\": 3.42, \"Country\": \"RU\", \"Date\": \"2021-04-18 15:59:17\", \"Main Temp\": 26.82, \"Current Description\": [{\"id\": 804, \"main\": \"Clouds\", \"description\": \"overcast clouds\", \"icon\": \"04n\"}]}, {\"City\": \"Maceio\", \"Lat\": -9.6658, \"Lng\": -35.7353, \"Max Temp\": 80.6, \"Humidity\": 78, \"Cloudiness\": 75, \"Wind Speed\": 12.66, \"Country\": \"BR\", \"Date\": \"2021-04-18 15:55:56\", \"Main Temp\": 80.6, \"Current Description\": [{\"id\": 803, \"main\": \"Clouds\", \"description\": \"broken clouds\", \"icon\": \"04d\"}]}]'"
      ]
     },
     "execution_count": 9,
     "metadata": {},
     "output_type": "execute_result"
    }
   ],
   "source": [
    "city_data_js = json.dumps(city_data)\n",
    "city_data_js"
   ]
  },
  {
   "cell_type": "code",
   "execution_count": 10,
   "metadata": {},
   "outputs": [],
   "source": [
    "city_data_df = pd.read_json(city_data_js)"
   ]
  },
  {
   "cell_type": "code",
   "execution_count": 11,
   "metadata": {},
   "outputs": [
    {
     "data": {
      "text/html": [
       "<div>\n",
       "<style scoped>\n",
       "    .dataframe tbody tr th:only-of-type {\n",
       "        vertical-align: middle;\n",
       "    }\n",
       "\n",
       "    .dataframe tbody tr th {\n",
       "        vertical-align: top;\n",
       "    }\n",
       "\n",
       "    .dataframe thead th {\n",
       "        text-align: right;\n",
       "    }\n",
       "</style>\n",
       "<table border=\"1\" class=\"dataframe\">\n",
       "  <thead>\n",
       "    <tr style=\"text-align: right;\">\n",
       "      <th></th>\n",
       "      <th>City</th>\n",
       "      <th>Lat</th>\n",
       "      <th>Lng</th>\n",
       "      <th>Max Temp</th>\n",
       "      <th>Humidity</th>\n",
       "      <th>Cloudiness</th>\n",
       "      <th>Wind Speed</th>\n",
       "      <th>Country</th>\n",
       "      <th>Date</th>\n",
       "      <th>Main Temp</th>\n",
       "      <th>Current Description</th>\n",
       "    </tr>\n",
       "  </thead>\n",
       "  <tbody>\n",
       "    <tr>\n",
       "      <th>0</th>\n",
       "      <td>Jalu</td>\n",
       "      <td>29.0331</td>\n",
       "      <td>21.5482</td>\n",
       "      <td>99.14</td>\n",
       "      <td>8</td>\n",
       "      <td>100</td>\n",
       "      <td>4.52</td>\n",
       "      <td>LY</td>\n",
       "      <td>2021-04-18 15:59:16</td>\n",
       "      <td>99.14</td>\n",
       "      <td>[{'id': 804, 'main': 'Clouds', 'description': ...</td>\n",
       "    </tr>\n",
       "    <tr>\n",
       "      <th>1</th>\n",
       "      <td>Sturgeon Bay</td>\n",
       "      <td>44.8342</td>\n",
       "      <td>-87.3770</td>\n",
       "      <td>50.00</td>\n",
       "      <td>43</td>\n",
       "      <td>1</td>\n",
       "      <td>5.75</td>\n",
       "      <td>US</td>\n",
       "      <td>2021-04-18 15:56:30</td>\n",
       "      <td>48.70</td>\n",
       "      <td>[{'id': 800, 'main': 'Clear', 'description': '...</td>\n",
       "    </tr>\n",
       "    <tr>\n",
       "      <th>2</th>\n",
       "      <td>Brae</td>\n",
       "      <td>60.3964</td>\n",
       "      <td>-1.3530</td>\n",
       "      <td>48.20</td>\n",
       "      <td>76</td>\n",
       "      <td>0</td>\n",
       "      <td>14.97</td>\n",
       "      <td>GB</td>\n",
       "      <td>2021-04-18 15:59:17</td>\n",
       "      <td>48.20</td>\n",
       "      <td>[{'id': 800, 'main': 'Clear', 'description': '...</td>\n",
       "    </tr>\n",
       "    <tr>\n",
       "      <th>3</th>\n",
       "      <td>Ossora</td>\n",
       "      <td>59.2353</td>\n",
       "      <td>163.0719</td>\n",
       "      <td>26.82</td>\n",
       "      <td>92</td>\n",
       "      <td>100</td>\n",
       "      <td>3.42</td>\n",
       "      <td>RU</td>\n",
       "      <td>2021-04-18 15:59:17</td>\n",
       "      <td>26.82</td>\n",
       "      <td>[{'id': 804, 'main': 'Clouds', 'description': ...</td>\n",
       "    </tr>\n",
       "    <tr>\n",
       "      <th>4</th>\n",
       "      <td>Maceio</td>\n",
       "      <td>-9.6658</td>\n",
       "      <td>-35.7353</td>\n",
       "      <td>80.60</td>\n",
       "      <td>78</td>\n",
       "      <td>75</td>\n",
       "      <td>12.66</td>\n",
       "      <td>BR</td>\n",
       "      <td>2021-04-18 15:55:56</td>\n",
       "      <td>80.60</td>\n",
       "      <td>[{'id': 803, 'main': 'Clouds', 'description': ...</td>\n",
       "    </tr>\n",
       "  </tbody>\n",
       "</table>\n",
       "</div>"
      ],
      "text/plain": [
       "           City      Lat       Lng  Max Temp  Humidity  Cloudiness  \\\n",
       "0          Jalu  29.0331   21.5482     99.14         8         100   \n",
       "1  Sturgeon Bay  44.8342  -87.3770     50.00        43           1   \n",
       "2          Brae  60.3964   -1.3530     48.20        76           0   \n",
       "3        Ossora  59.2353  163.0719     26.82        92         100   \n",
       "4        Maceio  -9.6658  -35.7353     80.60        78          75   \n",
       "\n",
       "   Wind Speed Country                Date  Main Temp  \\\n",
       "0        4.52      LY 2021-04-18 15:59:16      99.14   \n",
       "1        5.75      US 2021-04-18 15:56:30      48.70   \n",
       "2       14.97      GB 2021-04-18 15:59:17      48.20   \n",
       "3        3.42      RU 2021-04-18 15:59:17      26.82   \n",
       "4       12.66      BR 2021-04-18 15:55:56      80.60   \n",
       "\n",
       "                                 Current Description  \n",
       "0  [{'id': 804, 'main': 'Clouds', 'description': ...  \n",
       "1  [{'id': 800, 'main': 'Clear', 'description': '...  \n",
       "2  [{'id': 800, 'main': 'Clear', 'description': '...  \n",
       "3  [{'id': 804, 'main': 'Clouds', 'description': ...  \n",
       "4  [{'id': 803, 'main': 'Clouds', 'description': ...  "
      ]
     },
     "execution_count": 11,
     "metadata": {},
     "output_type": "execute_result"
    }
   ],
   "source": [
    "city_data_df"
   ]
  },
  {
   "cell_type": "code",
   "execution_count": 12,
   "metadata": {},
   "outputs": [
    {
     "data": {
      "text/plain": [
       "'{'"
      ]
     },
     "execution_count": 12,
     "metadata": {},
     "output_type": "execute_result"
    }
   ],
   "source": [
    "city_data_js[1]"
   ]
  },
  {
   "cell_type": "code",
   "execution_count": 13,
   "metadata": {},
   "outputs": [
    {
     "data": {
      "text/html": [
       "<div>\n",
       "<style scoped>\n",
       "    .dataframe tbody tr th:only-of-type {\n",
       "        vertical-align: middle;\n",
       "    }\n",
       "\n",
       "    .dataframe tbody tr th {\n",
       "        vertical-align: top;\n",
       "    }\n",
       "\n",
       "    .dataframe thead th {\n",
       "        text-align: right;\n",
       "    }\n",
       "</style>\n",
       "<table border=\"1\" class=\"dataframe\">\n",
       "  <thead>\n",
       "    <tr style=\"text-align: right;\">\n",
       "      <th></th>\n",
       "      <th>City</th>\n",
       "      <th>Country</th>\n",
       "      <th>Lat</th>\n",
       "      <th>Lng</th>\n",
       "      <th>Max Temp</th>\n",
       "      <th>Humidity</th>\n",
       "      <th>Cloudiness</th>\n",
       "      <th>Wind Speed</th>\n",
       "      <th>Current Description</th>\n",
       "    </tr>\n",
       "  </thead>\n",
       "  <tbody>\n",
       "    <tr>\n",
       "      <th>0</th>\n",
       "      <td>Jalu</td>\n",
       "      <td>LY</td>\n",
       "      <td>29.0331</td>\n",
       "      <td>21.5482</td>\n",
       "      <td>99.14</td>\n",
       "      <td>8</td>\n",
       "      <td>100</td>\n",
       "      <td>4.52</td>\n",
       "      <td>[{'id': 804, 'main': 'Clouds', 'description': ...</td>\n",
       "    </tr>\n",
       "    <tr>\n",
       "      <th>1</th>\n",
       "      <td>Sturgeon Bay</td>\n",
       "      <td>US</td>\n",
       "      <td>44.8342</td>\n",
       "      <td>-87.3770</td>\n",
       "      <td>50.00</td>\n",
       "      <td>43</td>\n",
       "      <td>1</td>\n",
       "      <td>5.75</td>\n",
       "      <td>[{'id': 800, 'main': 'Clear', 'description': '...</td>\n",
       "    </tr>\n",
       "    <tr>\n",
       "      <th>2</th>\n",
       "      <td>Brae</td>\n",
       "      <td>GB</td>\n",
       "      <td>60.3964</td>\n",
       "      <td>-1.3530</td>\n",
       "      <td>48.20</td>\n",
       "      <td>76</td>\n",
       "      <td>0</td>\n",
       "      <td>14.97</td>\n",
       "      <td>[{'id': 800, 'main': 'Clear', 'description': '...</td>\n",
       "    </tr>\n",
       "    <tr>\n",
       "      <th>3</th>\n",
       "      <td>Ossora</td>\n",
       "      <td>RU</td>\n",
       "      <td>59.2353</td>\n",
       "      <td>163.0719</td>\n",
       "      <td>26.82</td>\n",
       "      <td>92</td>\n",
       "      <td>100</td>\n",
       "      <td>3.42</td>\n",
       "      <td>[{'id': 804, 'main': 'Clouds', 'description': ...</td>\n",
       "    </tr>\n",
       "    <tr>\n",
       "      <th>4</th>\n",
       "      <td>Maceio</td>\n",
       "      <td>BR</td>\n",
       "      <td>-9.6658</td>\n",
       "      <td>-35.7353</td>\n",
       "      <td>80.60</td>\n",
       "      <td>78</td>\n",
       "      <td>75</td>\n",
       "      <td>12.66</td>\n",
       "      <td>[{'id': 803, 'main': 'Clouds', 'description': ...</td>\n",
       "    </tr>\n",
       "  </tbody>\n",
       "</table>\n",
       "</div>"
      ],
      "text/plain": [
       "           City Country      Lat       Lng  Max Temp  Humidity  Cloudiness  \\\n",
       "0          Jalu      LY  29.0331   21.5482     99.14         8         100   \n",
       "1  Sturgeon Bay      US  44.8342  -87.3770     50.00        43           1   \n",
       "2          Brae      GB  60.3964   -1.3530     48.20        76           0   \n",
       "3        Ossora      RU  59.2353  163.0719     26.82        92         100   \n",
       "4        Maceio      BR  -9.6658  -35.7353     80.60        78          75   \n",
       "\n",
       "   Wind Speed                                Current Description  \n",
       "0        4.52  [{'id': 804, 'main': 'Clouds', 'description': ...  \n",
       "1        5.75  [{'id': 800, 'main': 'Clear', 'description': '...  \n",
       "2       14.97  [{'id': 800, 'main': 'Clear', 'description': '...  \n",
       "3        3.42  [{'id': 804, 'main': 'Clouds', 'description': ...  \n",
       "4       12.66  [{'id': 803, 'main': 'Clouds', 'description': ...  "
      ]
     },
     "execution_count": 13,
     "metadata": {},
     "output_type": "execute_result"
    }
   ],
   "source": [
    "new_column_order = [\"City\", \"Country\", \"Lat\", \"Lng\", \"Max Temp\", \"Humidity\", \"Cloudiness\", \"Wind Speed\", \"Current Description\"]\n",
    "city_data_df = city_data_df[new_column_order]\n",
    "city_data_df"
   ]
  },
  {
   "cell_type": "code",
   "execution_count": 14,
   "metadata": {},
   "outputs": [
    {
     "data": {
      "text/plain": [
       "0    [{'id': 804, 'main': 'Clouds', 'description': ...\n",
       "1    [{'id': 800, 'main': 'Clear', 'description': '...\n",
       "2    [{'id': 800, 'main': 'Clear', 'description': '...\n",
       "3    [{'id': 804, 'main': 'Clouds', 'description': ...\n",
       "4    [{'id': 803, 'main': 'Clouds', 'description': ...\n",
       "Name: Current Description, dtype: object"
      ]
     },
     "execution_count": 14,
     "metadata": {},
     "output_type": "execute_result"
    }
   ],
   "source": [
    "current_desc = city_data_df.loc[:, (\"Current Description\")]\n",
    "current_desc"
   ]
  },
  {
   "cell_type": "code",
   "execution_count": 15,
   "metadata": {},
   "outputs": [
    {
     "data": {
      "text/html": [
       "<div>\n",
       "<style scoped>\n",
       "    .dataframe tbody tr th:only-of-type {\n",
       "        vertical-align: middle;\n",
       "    }\n",
       "\n",
       "    .dataframe tbody tr th {\n",
       "        vertical-align: top;\n",
       "    }\n",
       "\n",
       "    .dataframe thead th {\n",
       "        text-align: right;\n",
       "    }\n",
       "</style>\n",
       "<table border=\"1\" class=\"dataframe\">\n",
       "  <thead>\n",
       "    <tr style=\"text-align: right;\">\n",
       "      <th></th>\n",
       "      <th>Current Description</th>\n",
       "    </tr>\n",
       "  </thead>\n",
       "  <tbody>\n",
       "    <tr>\n",
       "      <th>0</th>\n",
       "      <td>[{'id': 804, 'main': 'Clouds', 'description': ...</td>\n",
       "    </tr>\n",
       "    <tr>\n",
       "      <th>1</th>\n",
       "      <td>[{'id': 800, 'main': 'Clear', 'description': '...</td>\n",
       "    </tr>\n",
       "    <tr>\n",
       "      <th>2</th>\n",
       "      <td>[{'id': 800, 'main': 'Clear', 'description': '...</td>\n",
       "    </tr>\n",
       "    <tr>\n",
       "      <th>3</th>\n",
       "      <td>[{'id': 804, 'main': 'Clouds', 'description': ...</td>\n",
       "    </tr>\n",
       "    <tr>\n",
       "      <th>4</th>\n",
       "      <td>[{'id': 803, 'main': 'Clouds', 'description': ...</td>\n",
       "    </tr>\n",
       "  </tbody>\n",
       "</table>\n",
       "</div>"
      ],
      "text/plain": [
       "                                 Current Description\n",
       "0  [{'id': 804, 'main': 'Clouds', 'description': ...\n",
       "1  [{'id': 800, 'main': 'Clear', 'description': '...\n",
       "2  [{'id': 800, 'main': 'Clear', 'description': '...\n",
       "3  [{'id': 804, 'main': 'Clouds', 'description': ...\n",
       "4  [{'id': 803, 'main': 'Clouds', 'description': ..."
      ]
     },
     "execution_count": 15,
     "metadata": {},
     "output_type": "execute_result"
    }
   ],
   "source": [
    "current_desc_df = pd.DataFrame(current_desc)\n",
    "current_desc_df"
   ]
  },
  {
   "cell_type": "code",
   "execution_count": 16,
   "metadata": {},
   "outputs": [
    {
     "ename": "SyntaxError",
     "evalue": "cannot assign to literal (<ipython-input-16-f85ee7af2e5e>, line 1)",
     "output_type": "error",
     "traceback": [
      "\u001b[0;36m  File \u001b[0;32m\"<ipython-input-16-f85ee7af2e5e>\"\u001b[0;36m, line \u001b[0;32m1\u001b[0m\n\u001b[0;31m    for 1 in city_data['Current Description']:\u001b[0m\n\u001b[0m        ^\u001b[0m\n\u001b[0;31mSyntaxError\u001b[0m\u001b[0;31m:\u001b[0m cannot assign to literal\n"
     ]
    }
   ],
   "source": [
    "for 1 in city_data['Current Description']:\n",
    "    print(every_city['description'])"
   ]
  }
 ],
 "metadata": {
  "kernelspec": {
   "display_name": "PythonData",
   "language": "python",
   "name": "pythondata"
  },
  "language_info": {
   "codemirror_mode": {
    "name": "ipython",
    "version": 3
   },
   "file_extension": ".py",
   "mimetype": "text/x-python",
   "name": "python",
   "nbconvert_exporter": "python",
   "pygments_lexer": "ipython3",
   "version": "3.8.5"
  }
 },
 "nbformat": 4,
 "nbformat_minor": 4
}
